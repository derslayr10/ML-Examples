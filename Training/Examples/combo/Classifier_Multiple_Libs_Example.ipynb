{
 "cells": [
  {
   "cell_type": "code",
   "execution_count": 2,
   "metadata": {},
   "outputs": [],
   "source": [
    "# this example combines models from several libraries\n",
    "\n",
    "# got weird errors after XGB and LGBM models, but seems to run correctly. Errors\n",
    "# mention changes in those modules\n",
    "\n",
    "#imports\n",
    "import os\n",
    "import sys\n",
    "\n",
    "from sklearn.tree import DecisionTreeClassifier\n",
    "from sklearn.linear_model import LogisticRegression\n",
    "from sklearn.ensemble import GradientBoostingClassifier\n",
    "from sklearn.ensemble import RandomForestClassifier\n",
    "from sklearn.neighbors import KNeighborsClassifier\n",
    "from lightgbm import LGBMClassifier\n",
    "from xgboost import XGBClassifier\n",
    "\n",
    "from sklearn.model_selection import train_test_split\n",
    "from sklearn.datasets import load_breast_cancer\n",
    "\n",
    "from combo.models.classifier_stacking import Stacking\n",
    "from combo.utils.data import evaluate_print\n",
    "\n",
    "import warnings\n",
    "\n",
    "warnings.filterwarnings(\"ignore\")"
   ]
  },
  {
   "cell_type": "code",
   "execution_count": 3,
   "metadata": {},
   "outputs": [
    {
     "name": "stdout",
     "output_type": "stream",
     "text": [
      "DT   |    Accuracy:0.9386, ROC:0.9383, F1:0.9521\n",
      "LR   |    Accuracy:0.9649, ROC:0.9586, F1:0.9732\n",
      "KNN   |    Accuracy:0.9561, ROC:0.9519, F1:0.9662\n",
      "RF   |    Accuracy:0.9781, ROC:0.9716, F1:0.9833\n",
      "GBDT   |    Accuracy:0.9605, ROC:0.9524, F1:0.9699\n",
      "LGB   |    Accuracy:0.943, ROC:0.9417, F1:0.9556\n",
      "[01:54:42] WARNING: C:/Users/Administrator/workspace/xgboost-win64_release_1.3.0/src/learner.cc:1061: Starting in XGBoost 1.3.0, the default evaluation metric used with the objective 'binary:logistic' was changed from 'error' to 'logloss'. Explicitly set eval_metric if you'd like to restore the old behavior.\n",
      "XGB   |    Accuracy:0.9737, ROC:0.9654, F1:0.98\n",
      "\n",
      "[01:54:44] WARNING: C:/Users/Administrator/workspace/xgboost-win64_release_1.3.0/src/learner.cc:1061: Starting in XGBoost 1.3.0, the default evaluation metric used with the objective 'binary:logistic' was changed from 'error' to 'logloss'. Explicitly set eval_metric if you'd like to restore the old behavior.\n",
      "[01:54:44] WARNING: C:/Users/Administrator/workspace/xgboost-win64_release_1.3.0/src/learner.cc:1061: Starting in XGBoost 1.3.0, the default evaluation metric used with the objective 'binary:logistic' was changed from 'error' to 'logloss'. Explicitly set eval_metric if you'd like to restore the old behavior.\n",
      "[01:54:44] WARNING: C:/Users/Administrator/workspace/xgboost-win64_release_1.3.0/src/learner.cc:1061: Starting in XGBoost 1.3.0, the default evaluation metric used with the objective 'binary:logistic' was changed from 'error' to 'logloss'. Explicitly set eval_metric if you'd like to restore the old behavior.\n",
      "[01:54:44] WARNING: C:/Users/Administrator/workspace/xgboost-win64_release_1.3.0/src/learner.cc:1061: Starting in XGBoost 1.3.0, the default evaluation metric used with the objective 'binary:logistic' was changed from 'error' to 'logloss'. Explicitly set eval_metric if you'd like to restore the old behavior.\n",
      "[01:54:45] WARNING: C:/Users/Administrator/workspace/xgboost-win64_release_1.3.0/src/learner.cc:1061: Starting in XGBoost 1.3.0, the default evaluation metric used with the objective 'binary:logistic' was changed from 'error' to 'logloss'. Explicitly set eval_metric if you'd like to restore the old behavior.\n",
      "Stacking |  Accuracy:0.9912, ROC:0.9875, F1:0.9933\n"
     ]
    }
   ],
   "source": [
    "if __name__ == \"__main__\":\n",
    "    # Define data file and read X and y\n",
    "    random_state = 42\n",
    "    X, y = load_breast_cancer(return_X_y=True)\n",
    "\n",
    "    X_train, X_test, y_train, y_test = train_test_split(\n",
    "        X, y, test_size=0.4, random_state=random_state)\n",
    "\n",
    "    # initialize a group of clfs from scikit-learn, xgboost, and LightGBM\n",
    "    classifiers = [DecisionTreeClassifier(random_state=random_state),\n",
    "                   LogisticRegression(random_state=random_state),\n",
    "                   KNeighborsClassifier(),\n",
    "                   RandomForestClassifier(random_state=random_state),\n",
    "                   GradientBoostingClassifier(random_state=random_state),\n",
    "                   LGBMClassifier(random_state=random_state),\n",
    "                   XGBClassifier(random_state=random_state)]\n",
    "    #make abbreviations for printing\n",
    "    clf_names = ['DT', 'LR', 'KNN', 'RF', 'GBDT', 'LGB', 'XGB']\n",
    "\n",
    "    # evaluate individual classifiers\n",
    "    for i, clf in enumerate(classifiers):\n",
    "        #train data per classifier\n",
    "        clf.fit(X_train, y_train)\n",
    "        #predict per\n",
    "        y_test_predict = clf.predict(X_test)\n",
    "        #print per\n",
    "        evaluate_print(clf_names[i] + '   |   ', y_test, y_test_predict)\n",
    "\n",
    "    print()\n",
    "    \n",
    "    #build stacking models\n",
    "    #takes in list of classifiers, number of splits, does not shuffle data, keep original features for training does not use proba\n",
    "    clf = Stacking(classifiers, n_folds = 4, shuffle_data = False, keep_original = True, use_proba = False, random_state = random_state)\n",
    "    #train, predict, predict probability, print\n",
    "    clf.fit(X_train, y_train)\n",
    "    y_test_predict = clf.predict(X_test)\n",
    "    y_test_predict_proba = clf.predict_proba(X_test)\n",
    "    evaluate_print('Stacking | ', y_test, y_test_predict)"
   ]
  },
  {
   "cell_type": "code",
   "execution_count": null,
   "metadata": {},
   "outputs": [],
   "source": []
  }
 ],
 "metadata": {
  "kernelspec": {
   "display_name": "Python 3",
   "language": "python",
   "name": "python3"
  },
  "language_info": {
   "codemirror_mode": {
    "name": "ipython",
    "version": 3
   },
   "file_extension": ".py",
   "mimetype": "text/x-python",
   "name": "python",
   "nbconvert_exporter": "python",
   "pygments_lexer": "ipython3",
   "version": "3.8.5"
  }
 },
 "nbformat": 4,
 "nbformat_minor": 4
}
