{
 "cells": [
  {
   "cell_type": "code",
   "execution_count": 9,
   "metadata": {},
   "outputs": [],
   "source": [
    "#required imports\n",
    "\n",
    "import os\n",
    "import sys\n",
    "import numpy as np\n",
    "\n",
    "from sklearn.tree import DecisionTreeClassifier\n",
    "from sklearn.linear_model import LogisticRegression\n",
    "from sklearn.ensemble import GradientBoostingClassifier\n",
    "from sklearn.ensemble import RandomForestClassifier\n",
    "from sklearn.neighbors import KNeighborsClassifier\n",
    "\n",
    "from sklearn.datasets import load_breast_cancer\n",
    "from sklearn.model_selection import train_test_split\n",
    "\n",
    "from combo.models.classifier_comb import SimpleClassifierAggregator\n",
    "from combo.utils.data import evaluate_print\n",
    "\n",
    "import warnings"
   ]
  },
  {
   "cell_type": "code",
   "execution_count": 3,
   "metadata": {},
   "outputs": [],
   "source": [
    "warnings.filterwarnings(\"ignore\")"
   ]
  },
  {
   "cell_type": "code",
   "execution_count": 4,
   "metadata": {},
   "outputs": [],
   "source": [
    "#define data file and read in X and y\n",
    "if __name__ == \"__main__\":\n",
    "    random_state = 42\n",
    "    X, y = load_breast_cancer(return_X_y = True)\n",
    "    \n",
    "    X_train, X_test, y_train, y_test = train_test_split(X,y, test_size = 0.4, random_state = random_state)"
   ]
  },
  {
   "cell_type": "code",
   "execution_count": 17,
   "metadata": {},
   "outputs": [
    {
     "name": "stdout",
     "output_type": "stream",
     "text": [
      "Decision Tree        | Accuracy:0.9386, ROC:0.9383, F1:0.9521\n",
      "Logistic Regression  | Accuracy:0.9649, ROC:0.9586, F1:0.9732\n",
      "K Neighbors          | Accuracy:0.9561, ROC:0.9519, F1:0.9662\n",
      "Gradient Boosting    | Accuracy:0.9605, ROC:0.9524, F1:0.9699\n",
      "Random Forest        | Accuracy:0.9781, ROC:0.9716, F1:0.9833\n",
      "\n",
      "Combination by avg   | Accuracy:0.9825, ROC:0.9779, F1:0.9866\n",
      "[[0.5 2.  0.5 1.  1. ]]\n",
      "Combination by w_avg | Accuracy:0.9781, ROC:0.9688, F1:0.9834\n",
      "Combination by max   | Accuracy:0.9474, ROC:0.925, F1:0.961\n",
      "[[0.5 2.  0.5 1.  1. ]]\n",
      "Combination by w_vote| Accuracy:0.9781, ROC:0.9774, F1:0.9831\n",
      "Combination by median| Accuracy:0.9825, ROC:0.9779, F1:0.9866\n"
     ]
    }
   ],
   "source": [
    "    #fit and predict data with decision tree\n",
    "    clf = DecisionTreeClassifier(random_state = random_state)\n",
    "    clf.fit(X_train, y_train)\n",
    "    evaluate_print('Decision Tree        |', y_test, clf.predict(X_test))\n",
    "\n",
    "    #fit and predict data with logistic regression\n",
    "    clf = LogisticRegression(random_state = random_state)\n",
    "    clf.fit(X_train, y_train)\n",
    "    evaluate_print('Logistic Regression  |', y_test, clf.predict(X_test))\n",
    "\n",
    "    #fit and predict data with KNeighbor\n",
    "    clf = KNeighborsClassifier()\n",
    "    clf.fit(X_train, y_train)\n",
    "    evaluate_print('K Neighbors          |', y_test, clf.predict(X_test))\n",
    "\n",
    "    #fit and predict data with GradientBoosting\n",
    "    clf = GradientBoostingClassifier(random_state = random_state)\n",
    "    clf.fit(X_train, y_train)\n",
    "    evaluate_print('Gradient Boosting    |', y_test, clf.predict(X_test))\n",
    "\n",
    "    #fit and predict data with random forest\n",
    "    clf = RandomForestClassifier(random_state = random_state)\n",
    "    clf.fit(X_train, y_train)\n",
    "    evaluate_print('Random Forest        |', y_test, clf.predict(X_test))\n",
    "\n",
    "    print()\n",
    "    \n",
    "    #initialize group of classifiers\n",
    "    classifiers = [DecisionTreeClassifier(random_state = random_state),\n",
    "                   LogisticRegression(random_state = random_state),\n",
    "                   KNeighborsClassifier(),\n",
    "                   RandomForestClassifier(random_state = random_state),\n",
    "                   GradientBoostingClassifier(random_state = random_state)]\n",
    "    \n",
    "    #combine by averaging\n",
    "    #first line combines all models defined in 'classifiers'\n",
    "    clf = SimpleClassifierAggregator(classifiers, method = 'average')\n",
    "    #trains combined models\n",
    "    clf.fit(X_train, y_train)\n",
    "    #predict values in combined model\n",
    "    y_test_predicted = clf.predict(X_test)\n",
    "    #print evaluation like above\n",
    "    evaluate_print('Combination by avg   |', y_test, y_test_predicted)\n",
    "\n",
    "    #combine by weighted averaging\n",
    "    #define weights\n",
    "    clf_weights = np.array([0.1, 0.4, 0.1, 0.2, 0.2])\n",
    "    #combine models\n",
    "    clf = SimpleClassifierAggregator(classifiers, method = 'average', weights = clf_weights)\n",
    "    #train models\n",
    "    clf.fit(X_train, y_train)\n",
    "    #predict\n",
    "    y_test_predicted = clf.predict(X_test)\n",
    "    #print\n",
    "    evaluate_print('Combination by w_avg |', y_test, y_test_predicted)\n",
    "    \n",
    "    #combine by maximization\n",
    "    #combine models\n",
    "    clf = SimpleClassifierAggregator(classifiers, method = 'maximization')\n",
    "    clf.fit(X_train, y_train)\n",
    "    y_test_predicted = clf.predict(X_test)\n",
    "    evaluate_print('Combination by max   |', y_test, y_test_predicted)\n",
    "    \n",
    "    #combine by weighted majority\n",
    "    clf = SimpleClassifierAggregator(classifiers, method = 'majority_vote', weights = clf_weights)\n",
    "    clf.fit(X_train, y_train)\n",
    "    y_test_predicted = clf.predict(X_test)\n",
    "    evaluate_print('Combination by w_vote|', y_test, y_test_predicted)\n",
    "    \n",
    "    #combine by median\n",
    "    clf = SimpleClassifierAggregator(classifiers, method = 'median')\n",
    "    clf.fit(X_train, y_train)\n",
    "    y_test_predicted = clf.predict(X_test)\n",
    "    evaluate_print('Combination by median|', y_test, y_test_predicted)"
   ]
  },
  {
   "cell_type": "code",
   "execution_count": 15,
   "metadata": {},
   "outputs": [],
   "source": []
  },
  {
   "cell_type": "code",
   "execution_count": 16,
   "metadata": {},
   "outputs": [
    {
     "name": "stdout",
     "output_type": "stream",
     "text": [
      "Combination by avg   | Accuracy:0.9825, ROC:0.9779, F1:0.9866\n",
      "[[0.5 2.  0.5 1.  1. ]]\n",
      "Combination by w_avg | Accuracy:0.9781, ROC:0.9688, F1:0.9834\n",
      "Combination by max   | Accuracy:0.9474, ROC:0.925, F1:0.961\n",
      "[[0.5 2.  0.5 1.  1. ]]\n",
      "Combination by w_vote| Accuracy:0.9781, ROC:0.9774, F1:0.9831\n",
      "Combination by median| Accuracy:0.9825, ROC:0.9779, F1:0.9866\n"
     ]
    }
   ],
   "source": []
  },
  {
   "cell_type": "code",
   "execution_count": null,
   "metadata": {},
   "outputs": [],
   "source": []
  }
 ],
 "metadata": {
  "kernelspec": {
   "display_name": "Python 3",
   "language": "python",
   "name": "python3"
  },
  "language_info": {
   "codemirror_mode": {
    "name": "ipython",
    "version": 3
   },
   "file_extension": ".py",
   "mimetype": "text/x-python",
   "name": "python",
   "nbconvert_exporter": "python",
   "pygments_lexer": "ipython3",
   "version": "3.8.5"
  }
 },
 "nbformat": 4,
 "nbformat_minor": 4
}
