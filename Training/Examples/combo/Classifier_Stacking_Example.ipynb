{
 "cells": [
  {
   "cell_type": "code",
   "execution_count": 1,
   "metadata": {},
   "outputs": [],
   "source": [
    "#this example stacks models for meta ensembling\n",
    "\n",
    "#imports\n",
    "from sklearn.tree import DecisionTreeClassifier\n",
    "from sklearn.linear_model import LogisticRegression\n",
    "from sklearn.ensemble import GradientBoostingClassifier\n",
    "from sklearn.ensemble import RandomForestClassifier\n",
    "from sklearn.neighbors import KNeighborsClassifier\n",
    "\n",
    "from sklearn.model_selection import train_test_split\n",
    "from sklearn.datasets import load_breast_cancer\n",
    "\n",
    "from combo.models.classifier_stacking import Stacking\n",
    "from combo.utils.data import evaluate_print\n",
    "\n",
    "import warnings\n",
    "\n",
    "warnings.filterwarnings(\"ignore\")"
   ]
  },
  {
   "cell_type": "code",
   "execution_count": 2,
   "metadata": {},
   "outputs": [
    {
     "name": "stdout",
     "output_type": "stream",
     "text": [
      "DT   |    Accuracy:0.9386, ROC:0.9383, F1:0.9521\n",
      "LR   |    Accuracy:0.9649, ROC:0.9586, F1:0.9732\n",
      "KNN   |    Accuracy:0.9561, ROC:0.9519, F1:0.9662\n",
      "RF   |    Accuracy:0.9781, ROC:0.9716, F1:0.9833\n",
      "GBDT   |    Accuracy:0.9605, ROC:0.9524, F1:0.9699\n",
      "\n",
      "Stacking |  Accuracy:0.9825, ROC:0.9807, F1:0.9865\n"
     ]
    }
   ],
   "source": [
    "if __name__ == \"__main__\":\n",
    "    # Define data file and read X and y\n",
    "    random_state = 42\n",
    "    X, y = load_breast_cancer(return_X_y=True)\n",
    "\n",
    "    X_train, X_test, y_train, y_test = train_test_split(X, y, test_size=0.4,\n",
    "                                                        random_state=random_state)\n",
    "\n",
    "    # initialize a group of clfs\n",
    "    classifiers = [DecisionTreeClassifier(random_state=random_state),\n",
    "                   LogisticRegression(random_state=random_state),\n",
    "                   KNeighborsClassifier(),\n",
    "                   RandomForestClassifier(random_state=random_state),\n",
    "                   GradientBoostingClassifier(random_state=random_state)]\n",
    "    #abbreviate class names\n",
    "    clf_names = ['DT', 'LR', 'KNN', 'RF', 'GBDT']\n",
    "\n",
    "    # evaluate individual classifiers\n",
    "    for i, clf in enumerate(classifiers):\n",
    "        clf.fit(X_train, y_train)\n",
    "        y_test_predict = clf.predict(X_test)\n",
    "        evaluate_print(clf_names[i] + '   |   ', y_test, y_test_predict)\n",
    "\n",
    "    print()\n",
    "    \n",
    "     # build a Stacking model and evaluate\n",
    "    clf = Stacking(classifiers, n_folds=4, shuffle_data=False,\n",
    "                   keep_original=True, use_proba=False,\n",
    "                   random_state=random_state)\n",
    "\n",
    "    clf.fit(X_train, y_train)\n",
    "    y_test_predict = clf.predict(X_test)\n",
    "    evaluate_print('Stacking | ', y_test, y_test_predict)"
   ]
  },
  {
   "cell_type": "code",
   "execution_count": null,
   "metadata": {},
   "outputs": [],
   "source": []
  }
 ],
 "metadata": {
  "kernelspec": {
   "display_name": "Python 3",
   "language": "python",
   "name": "python3"
  },
  "language_info": {
   "codemirror_mode": {
    "name": "ipython",
    "version": 3
   },
   "file_extension": ".py",
   "mimetype": "text/x-python",
   "name": "python",
   "nbconvert_exporter": "python",
   "pygments_lexer": "ipython3",
   "version": "3.8.5"
  }
 },
 "nbformat": 4,
 "nbformat_minor": 4
}
