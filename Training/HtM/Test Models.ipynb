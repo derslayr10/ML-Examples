{
 "cells": [
  {
   "cell_type": "code",
   "execution_count": 1,
   "id": "021c57ec",
   "metadata": {},
   "outputs": [],
   "source": [
    "import pandas as pd\n",
    "import matplotlib.pyplot as plt\n",
    "import numpy as np\n",
    "import itertools\n",
    "import random\n",
    "import os\n",
    "\n",
    "import tensorflow as tf\n",
    "from tensorflow.keras.models import *\n",
    "from tensorflow.keras.layers import *\n",
    "from tensorflow.keras.utils import *\n",
    "\n",
    "from sklearn.preprocessing import StandardScaler\n",
    "from sklearn.metrics import accuracy_score, confusion_matrix, classification_report\n",
    "from sklearn.model_selection import train_test_split\n",
    "from sklearn.manifold import TSNE\n",
    "\n",
    "from sklearn import preprocessing\n",
    "from sklearn.preprocessing import LabelEncoder"
   ]
  },
  {
   "cell_type": "code",
   "execution_count": 2,
   "id": "02ff32e1",
   "metadata": {
    "scrolled": true
   },
   "outputs": [],
   "source": [
    "#read in data\n",
    "df = pd.read_csv(\"HtM_MAF Data_Final_Edited.csv\", usecols = [\"Corrosion\", \"Bare Metal\" , \"Corrosion Prevention Treatment\" , \"Routine Maintenance\" , \"Unscheduled Maintenance\" , \"Mission-Related Maintenance\" , \"Failure\"])"
   ]
  },
  {
   "cell_type": "code",
   "execution_count": 3,
   "id": "9f09d7ac",
   "metadata": {},
   "outputs": [],
   "source": [
    "#create encoder to easily shape data\n",
    "labelEncoder = LabelEncoder()\n",
    "\n",
    "#encode labels\n",
    "df[\"Corrosion\"] = labelEncoder.fit_transform(df[\"Corrosion\"])\n",
    "df[\"Bare Metal\"] = labelEncoder.fit_transform(df[\"Bare Metal\"])\n",
    "df[\"Corrosion Prevention Treatment\"] = labelEncoder.fit_transform(df[\"Corrosion Prevention Treatment\"])\n",
    "df[\"Routine Maintenance\"] = labelEncoder.fit_transform(df[\"Routine Maintenance\"])\n",
    "df[\"Unscheduled Maintenance\"] = labelEncoder.fit_transform(df[\"Unscheduled Maintenance\"])\n",
    "df[\"Mission-Related Maintenance\"] = labelEncoder.fit_transform(df[\"Mission-Related Maintenance\"])\n",
    "df[\"Failure\"] = labelEncoder.fit_transform(df[\"Failure\"])\n",
    "\n",
    "#create train and test sets\n",
    "Train = pd.DataFrame(data = df, columns = [\"Corrosion\", \"Bare Metal\", \"Corrosion Prevention Treatment\", \"Routine Maintenance\", \"Unscheduled Maintenance\", \"Mission-Related Maintenance\"], copy = True)\n",
    "Test = pd.DataFrame(data = df, columns = [\"Failure\"], copy = True)\n",
    "\n",
    "#create train and test data\n",
    "train_features, test_features, train_labels, test_labels = train_test_split(Train, Test, test_size = 0.25, random_state = random.seed(1))"
   ]
  },
  {
   "cell_type": "code",
   "execution_count": 4,
   "id": "94c41072",
   "metadata": {},
   "outputs": [
    {
     "name": "stdout",
     "output_type": "stream",
     "text": [
      "Train Features shape:  (271710, 6)\n",
      "Train Labels shape:  (271710, 1)\n",
      "Test Features shape:  (90571, 6)\n",
      "Test Labels shape:  (90571, 1)\n"
     ]
    }
   ],
   "source": [
    "print(\"Train Features shape: \", train_features.shape)\n",
    "print(\"Train Labels shape: \", train_labels.shape)\n",
    "print(\"Test Features shape: \", test_features.shape)\n",
    "print(\"Test Labels shape: \", test_labels.shape)"
   ]
  },
  {
   "cell_type": "code",
   "execution_count": 5,
   "id": "55efe40b",
   "metadata": {},
   "outputs": [
    {
     "name": "stdout",
     "output_type": "stream",
     "text": [
      "Model: \"sequential\"\n",
      "_________________________________________________________________\n",
      "Layer (type)                 Output Shape              Param #   \n",
      "=================================================================\n",
      "dense (Dense)                (None, 12)                84        \n",
      "_________________________________________________________________\n",
      "dense_1 (Dense)              (None, 8)                 104       \n",
      "_________________________________________________________________\n",
      "dense_2 (Dense)              (None, 1)                 9         \n",
      "=================================================================\n",
      "Total params: 197\n",
      "Trainable params: 197\n",
      "Non-trainable params: 0\n",
      "_________________________________________________________________\n"
     ]
    }
   ],
   "source": [
    "model = Sequential()\n",
    "model.add(Dense(12, input_dim = train_features.shape[1], activation = \"relu\"))\n",
    "model.add(Dense(8, activation = \"relu\"))\n",
    "model.add(Dense(1, activation = \"sigmoid\"))\n",
    "\n",
    "model.compile(loss = \"binary_crossentropy\", optimizer = \"adam\", metrics = [\"accuracy\"])\n",
    "\n",
    "model.summary()"
   ]
  },
  {
   "cell_type": "code",
   "execution_count": 6,
   "id": "474cc0d2",
   "metadata": {},
   "outputs": [
    {
     "name": "stdout",
     "output_type": "stream",
     "text": [
      "Epoch 1/30\n",
      "18114/18114 [==============================] - 39s 2ms/step - loss: 0.0671 - accuracy: 0.9860\n",
      "Epoch 2/30\n",
      "18114/18114 [==============================] - 39s 2ms/step - loss: 0.0389 - accuracy: 0.9916\n",
      "Epoch 3/30\n",
      "18114/18114 [==============================] - 39s 2ms/step - loss: 0.0382 - accuracy: 0.9917\n",
      "Epoch 4/30\n",
      "18114/18114 [==============================] - 40s 2ms/step - loss: 0.0387 - accuracy: 0.9915\n",
      "Epoch 5/30\n",
      "18114/18114 [==============================] - 38s 2ms/step - loss: 0.0397 - accuracy: 0.9913\n",
      "Epoch 6/30\n",
      "18114/18114 [==============================] - 39s 2ms/step - loss: 0.0381 - accuracy: 0.9917\n",
      "Epoch 7/30\n",
      "18114/18114 [==============================] - 39s 2ms/step - loss: 0.0393 - accuracy: 0.9914\n",
      "Epoch 8/30\n",
      "18114/18114 [==============================] - 38s 2ms/step - loss: 0.0393 - accuracy: 0.9914\n",
      "Epoch 9/30\n",
      "18114/18114 [==============================] - 40s 2ms/step - loss: 0.0378 - accuracy: 0.9918\n",
      "Epoch 10/30\n",
      "18114/18114 [==============================] - 45s 2ms/step - loss: 0.0386 - accuracy: 0.9916\n",
      "Epoch 11/30\n",
      "18114/18114 [==============================] - 46s 3ms/step - loss: 0.0390 - accuracy: 0.9914\n",
      "Epoch 12/30\n",
      "18114/18114 [==============================] - 45s 3ms/step - loss: 0.0387 - accuracy: 0.9915\n",
      "Epoch 13/30\n",
      "18114/18114 [==============================] - 47s 3ms/step - loss: 0.0387 - accuracy: 0.9916\n",
      "Epoch 14/30\n",
      "18114/18114 [==============================] - 48s 3ms/step - loss: 0.0400 - accuracy: 0.9912 0s - loss: 0.0400 - accu\n",
      "Epoch 15/30\n",
      "18114/18114 [==============================] - 47s 3ms/step - loss: 0.0391 - accuracy: 0.9914\n",
      "Epoch 16/30\n",
      "18114/18114 [==============================] - 47s 3ms/step - loss: 0.0403 - accuracy: 0.9911 0s -\n",
      "Epoch 17/30\n",
      "18114/18114 [==============================] - 46s 3ms/step - loss: 0.0401 - accuracy: 0.9911\n",
      "Epoch 18/30\n",
      "18114/18114 [==============================] - 48s 3ms/step - loss: 0.0394 - accuracy: 0.9914\n",
      "Epoch 19/30\n",
      "18114/18114 [==============================] - 46s 3ms/step - loss: 0.0392 - accuracy: 0.9914\n",
      "Epoch 20/30\n",
      "18114/18114 [==============================] - 47s 3ms/step - loss: 0.0380 - accuracy: 0.9917\n",
      "Epoch 21/30\n",
      "18114/18114 [==============================] - 47s 3ms/step - loss: 0.0388 - accuracy: 0.9915 0s - loss: 0.0388 - accuracy: \n",
      "Epoch 22/30\n",
      "18114/18114 [==============================] - 46s 3ms/step - loss: 0.0400 - accuracy: 0.9913\n",
      "Epoch 23/30\n",
      "18114/18114 [==============================] - 46s 3ms/step - loss: 0.0400 - accuracy: 0.9912\n",
      "Epoch 24/30\n",
      "18114/18114 [==============================] - 46s 3ms/step - loss: 0.0387 - accuracy: 0.9916\n",
      "Epoch 25/30\n",
      "18114/18114 [==============================] - 46s 3ms/step - loss: 0.0383 - accuracy: 0.9917\n",
      "Epoch 26/30\n",
      "18114/18114 [==============================] - 46s 3ms/step - loss: 0.0383 - accuracy: 0.9916\n",
      "Epoch 27/30\n",
      "18114/18114 [==============================] - 45s 2ms/step - loss: 0.0390 - accuracy: 0.9914\n",
      "Epoch 28/30\n",
      "18114/18114 [==============================] - 46s 3ms/step - loss: 0.0381 - accuracy: 0.9917\n",
      "Epoch 29/30\n",
      "18114/18114 [==============================] - 46s 3ms/step - loss: 0.0385 - accuracy: 0.9916\n",
      "Epoch 30/30\n",
      "18114/18114 [==============================] - 46s 3ms/step - loss: 0.0384 - accuracy: 0.9916\n"
     ]
    }
   ],
   "source": [
    "history = model.fit(train_features, train_labels, batch_size = 15, epochs = 30)"
   ]
  },
  {
   "cell_type": "code",
   "execution_count": 7,
   "id": "6ff0022f",
   "metadata": {},
   "outputs": [],
   "source": [
    "model.save('very_basic_small_model.h5')"
   ]
  },
  {
   "cell_type": "code",
   "execution_count": 8,
   "id": "a0e9547d",
   "metadata": {},
   "outputs": [
    {
     "data": {
      "text/plain": [
       "array([[5.1032355e-12],\n",
       "       [2.7862139e-02],\n",
       "       [5.1032355e-12],\n",
       "       ...,\n",
       "       [4.8399687e-11],\n",
       "       [1.0000000e+00],\n",
       "       [1.0578649e-09]], dtype=float32)"
      ]
     },
     "execution_count": 8,
     "metadata": {},
     "output_type": "execute_result"
    }
   ],
   "source": [
    "model.predict(test_features)"
   ]
  },
  {
   "cell_type": "code",
   "execution_count": 9,
   "id": "46c054dd",
   "metadata": {},
   "outputs": [],
   "source": [
    "df1 = pd.read_csv(\"sample_data.csv\", usecols = [\"Routine Maintenance\" , \"Unscheduled Maintenance\" , \"Mission-Related Maintenance\" , \"Failure\"])\n",
    "\n",
    "#encode labels\n",
    "df1[\"Routine Maintenance\"] = labelEncoder.fit_transform(df1[\"Routine Maintenance\"])\n",
    "df1[\"Unscheduled Maintenance\"] = labelEncoder.fit_transform(df1[\"Unscheduled Maintenance\"])\n",
    "df1[\"Mission-Related Maintenance\"] = labelEncoder.fit_transform(df1[\"Mission-Related Maintenance\"])\n",
    "df1[\"Failure\"] = labelEncoder.fit_transform(df1[\"Failure\"])\n",
    "\n",
    "#create train and test sets\n",
    "Train1 = pd.DataFrame(data = df1, columns = [\"Routine Maintenance\", \"Unscheduled Maintenance\", \"Mission-Related Maintenance\"], copy = True)\n",
    "Test1 = pd.DataFrame(data = df1, columns = [\"Failure\"], copy = True)\n",
    "\n",
    "#create train and test data\n",
    "train_features, test_features, train_labels, test_labels = train_test_split(Train1, Test1, test_size = 0.25, random_state = random.seed(1))"
   ]
  },
  {
   "cell_type": "code",
   "execution_count": 10,
   "id": "70f24742",
   "metadata": {},
   "outputs": [
    {
     "name": "stdout",
     "output_type": "stream",
     "text": [
      "Train Features shape:  (27, 3)\n",
      "Train Labels shape:  (27, 1)\n",
      "Test Features shape:  (9, 3)\n",
      "Test Labels shape:  (9, 1)\n"
     ]
    }
   ],
   "source": [
    "print(\"Train Features shape: \", train_features.shape)\n",
    "print(\"Train Labels shape: \", train_labels.shape)\n",
    "print(\"Test Features shape: \", test_features.shape)\n",
    "print(\"Test Labels shape: \", test_labels.shape)"
   ]
  },
  {
   "cell_type": "code",
   "execution_count": 35,
   "id": "993663e1",
   "metadata": {
    "scrolled": true
   },
   "outputs": [
    {
     "name": "stdout",
     "output_type": "stream",
     "text": [
      "Model: \"sequential_7\"\n",
      "_________________________________________________________________\n",
      "Layer (type)                 Output Shape              Param #   \n",
      "=================================================================\n",
      "dense_11 (Dense)             (None, 12)                48        \n",
      "_________________________________________________________________\n",
      "dense_1 (Dense)              (None, 8)                 104       \n",
      "_________________________________________________________________\n",
      "dense_2 (Dense)              (None, 1)                 9         \n",
      "=================================================================\n",
      "Total params: 161\n",
      "Trainable params: 48\n",
      "Non-trainable params: 113\n",
      "_________________________________________________________________\n"
     ]
    }
   ],
   "source": [
    "model1 = Sequential()\n",
    "model1.add(Dense(12, input_dim = train_features.shape[1], activation = \"relu\"))\n",
    "for layer in model.layers[1:]:\n",
    "    model1.add(layer)\n",
    "    model1.layers[model1.layers.index(layer)].trainable = False\n",
    "    \n",
    "model1.compile(loss = \"binary_crossentropy\", optimizer = \"adam\", metrics = [\"accuracy\"])\n",
    "    \n",
    "model1.summary()"
   ]
  },
  {
   "cell_type": "code",
   "execution_count": 36,
   "id": "cf02df5c",
   "metadata": {},
   "outputs": [
    {
     "name": "stdout",
     "output_type": "stream",
     "text": [
      "Epoch 1/30\n",
      "2/2 [==============================] - 1s 9ms/step - loss: 1.7387 - accuracy: 0.5901\n",
      "Epoch 2/30\n",
      "2/2 [==============================] - 0s 8ms/step - loss: 1.9869 - accuracy: 0.5235\n",
      "Epoch 3/30\n",
      "2/2 [==============================] - 0s 5ms/step - loss: 2.1328 - accuracy: 0.4790\n",
      "Epoch 4/30\n",
      "2/2 [==============================] - 0s 4ms/step - loss: 2.1437 - accuracy: 0.4568\n",
      "Epoch 5/30\n",
      "2/2 [==============================] - 0s 5ms/step - loss: 1.8862 - accuracy: 0.5235\n",
      "Epoch 6/30\n",
      "2/2 [==============================] - 0s 4ms/step - loss: 1.6709 - accuracy: 0.5679\n",
      "Epoch 7/30\n",
      "2/2 [==============================] - 0s 5ms/step - loss: 1.8134 - accuracy: 0.5457\n",
      "Epoch 8/30\n",
      "2/2 [==============================] - 0s 3ms/step - loss: 1.8714 - accuracy: 0.5012\n",
      "Epoch 9/30\n",
      "2/2 [==============================] - 0s 5ms/step - loss: 1.7763 - accuracy: 0.5235\n",
      "Epoch 10/30\n",
      "2/2 [==============================] - 0s 5ms/step - loss: 1.8113 - accuracy: 0.5235\n",
      "Epoch 11/30\n",
      "2/2 [==============================] - 0s 5ms/step - loss: 1.8251 - accuracy: 0.5012\n",
      "Epoch 12/30\n",
      "2/2 [==============================] - 0s 5ms/step - loss: 1.7918 - accuracy: 0.5012\n",
      "Epoch 13/30\n",
      "2/2 [==============================] - 0s 5ms/step - loss: 1.6981 - accuracy: 0.5235\n",
      "Epoch 14/30\n",
      "2/2 [==============================] - 0s 5ms/step - loss: 1.6540 - accuracy: 0.5457\n",
      "Epoch 15/30\n",
      "2/2 [==============================] - 0s 5ms/step - loss: 1.6711 - accuracy: 0.5235\n",
      "Epoch 16/30\n",
      "2/2 [==============================] - 0s 5ms/step - loss: 1.6379 - accuracy: 0.5235\n",
      "Epoch 17/30\n",
      "2/2 [==============================] - 0s 5ms/step - loss: 1.7266 - accuracy: 0.5012\n",
      "Epoch 18/30\n",
      "2/2 [==============================] - 0s 3ms/step - loss: 1.6913 - accuracy: 0.5012\n",
      "Epoch 19/30\n",
      "2/2 [==============================] - 0s 4ms/step - loss: 1.5719 - accuracy: 0.5235\n",
      "Epoch 20/30\n",
      "2/2 [==============================] - 0s 4ms/step - loss: 1.6623 - accuracy: 0.5012\n",
      "Epoch 21/30\n",
      "2/2 [==============================] - 0s 4ms/step - loss: 1.5719 - accuracy: 0.5704\n",
      "Epoch 22/30\n",
      "2/2 [==============================] - 0s 3ms/step - loss: 1.6064 - accuracy: 0.5481\n",
      "Epoch 23/30\n",
      "2/2 [==============================] - 0s 4ms/step - loss: 1.6113 - accuracy: 0.5481\n",
      "Epoch 24/30\n",
      "2/2 [==============================] - 0s 4ms/step - loss: 1.5763 - accuracy: 0.5481\n",
      "Epoch 25/30\n",
      "2/2 [==============================] - 0s 4ms/step - loss: 1.5894 - accuracy: 0.5481\n",
      "Epoch 26/30\n",
      "2/2 [==============================] - 0s 3ms/step - loss: 1.6259 - accuracy: 0.5259\n",
      "Epoch 27/30\n",
      "2/2 [==============================] - 0s 3ms/step - loss: 1.6022 - accuracy: 0.5259\n",
      "Epoch 28/30\n",
      "2/2 [==============================] - 0s 3ms/step - loss: 1.4708 - accuracy: 0.5704\n",
      "Epoch 29/30\n",
      "2/2 [==============================] - 0s 4ms/step - loss: 1.6866 - accuracy: 0.5037\n",
      "Epoch 30/30\n",
      "2/2 [==============================] - 0s 3ms/step - loss: 1.4519 - accuracy: 0.5704\n"
     ]
    }
   ],
   "source": [
    "history = model1.fit(train_features, train_labels, batch_size = 15, epochs = 30)"
   ]
  },
  {
   "cell_type": "code",
   "execution_count": 37,
   "id": "443c3dfb",
   "metadata": {},
   "outputs": [],
   "source": [
    "model1.save('very_basic_small_model_after_tl.h5')"
   ]
  },
  {
   "cell_type": "code",
   "execution_count": null,
   "id": "202de600",
   "metadata": {},
   "outputs": [],
   "source": []
  }
 ],
 "metadata": {
  "kernelspec": {
   "display_name": "Python 3",
   "language": "python",
   "name": "python3"
  },
  "language_info": {
   "codemirror_mode": {
    "name": "ipython",
    "version": 3
   },
   "file_extension": ".py",
   "mimetype": "text/x-python",
   "name": "python",
   "nbconvert_exporter": "python",
   "pygments_lexer": "ipython3",
   "version": "3.8.5"
  }
 },
 "nbformat": 4,
 "nbformat_minor": 5
}
