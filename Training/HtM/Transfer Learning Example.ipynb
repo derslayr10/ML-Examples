{
 "cells": [
  {
   "cell_type": "code",
   "execution_count": 1,
   "id": "f2c3d095",
   "metadata": {},
   "outputs": [],
   "source": [
    "import pandas as pd\n",
    "import matplotlib.pyplot as plt\n",
    "import numpy as np\n",
    "import itertools\n",
    "import random\n",
    "import os\n",
    "\n",
    "import tensorflow as tf\n",
    "from tensorflow.keras.models import *\n",
    "from tensorflow.keras.layers import *\n",
    "from tensorflow.keras.utils import *\n",
    "\n",
    "from sklearn.preprocessing import StandardScaler\n",
    "from sklearn.metrics import accuracy_score, confusion_matrix, classification_report\n",
    "from sklearn.model_selection import train_test_split\n",
    "from sklearn.manifold import TSNE\n",
    "\n",
    "from sklearn import preprocessing\n",
    "from sklearn.preprocessing import LabelEncoder"
   ]
  },
  {
   "cell_type": "code",
   "execution_count": 2,
   "id": "f48231a0",
   "metadata": {},
   "outputs": [
    {
     "name": "stdout",
     "output_type": "stream",
     "text": [
      "Train Features shape:  (271710, 6)\n",
      "Train Labels shape:  (271710, 1)\n",
      "Test Features shape:  (90571, 6)\n",
      "Test Labels shape:  (90571, 1)\n"
     ]
    }
   ],
   "source": [
    "#read in data\n",
    "df = pd.read_csv(\"HtM_MAF Data_Final_Edited.csv\", usecols = [\"Corrosion\", \"Bare Metal\" , \"Corrosion Prevention Treatment\" , \"Routine Maintenance\" , \"Unscheduled Maintenance\" , \"Mission-Related Maintenance\" , \"Failure\"])\n",
    "\n",
    "#create encoder to easily shape data\n",
    "labelEncoder = LabelEncoder()\n",
    "\n",
    "#encode labels\n",
    "df[\"Corrosion\"] = labelEncoder.fit_transform(df[\"Corrosion\"])\n",
    "df[\"Bare Metal\"] = labelEncoder.fit_transform(df[\"Bare Metal\"])\n",
    "df[\"Corrosion Prevention Treatment\"] = labelEncoder.fit_transform(df[\"Corrosion Prevention Treatment\"])\n",
    "df[\"Routine Maintenance\"] = labelEncoder.fit_transform(df[\"Routine Maintenance\"])\n",
    "df[\"Unscheduled Maintenance\"] = labelEncoder.fit_transform(df[\"Unscheduled Maintenance\"])\n",
    "df[\"Mission-Related Maintenance\"] = labelEncoder.fit_transform(df[\"Mission-Related Maintenance\"])\n",
    "df[\"Failure\"] = labelEncoder.fit_transform(df[\"Failure\"])\n",
    "\n",
    "#create train and test sets\n",
    "Train = pd.DataFrame(data = df, columns = [\"Corrosion\", \"Bare Metal\", \"Corrosion Prevention Treatment\", \"Routine Maintenance\", \"Unscheduled Maintenance\", \"Mission-Related Maintenance\"], copy = True)\n",
    "Test = pd.DataFrame(data = df, columns = [\"Failure\"], copy = True)\n",
    "\n",
    "#create train and test data\n",
    "train_features, test_features, train_labels, test_labels = train_test_split(Train, Test, test_size = 0.25, random_state = random.seed(1))\n",
    "\n",
    "print(\"Train Features shape: \", train_features.shape)\n",
    "print(\"Train Labels shape: \", train_labels.shape)\n",
    "print(\"Test Features shape: \", test_features.shape)\n",
    "print(\"Test Labels shape: \", test_labels.shape)"
   ]
  },
  {
   "cell_type": "code",
   "execution_count": 3,
   "id": "55af9619",
   "metadata": {},
   "outputs": [
    {
     "name": "stdout",
     "output_type": "stream",
     "text": [
      "Model: \"sequential\"\n",
      "_________________________________________________________________\n",
      "Layer (type)                 Output Shape              Param #   \n",
      "=================================================================\n",
      "dense (Dense)                (None, 32)                224       \n",
      "_________________________________________________________________\n",
      "dense_1 (Dense)              (None, 30)                990       \n",
      "_________________________________________________________________\n",
      "dense_2 (Dense)              (None, 28)                868       \n",
      "_________________________________________________________________\n",
      "dense_3 (Dense)              (None, 26)                754       \n",
      "_________________________________________________________________\n",
      "dense_4 (Dense)              (None, 24)                648       \n",
      "_________________________________________________________________\n",
      "dense_5 (Dense)              (None, 22)                550       \n",
      "_________________________________________________________________\n",
      "dense_6 (Dense)              (None, 20)                460       \n",
      "_________________________________________________________________\n",
      "dense_7 (Dense)              (None, 18)                378       \n",
      "_________________________________________________________________\n",
      "dense_8 (Dense)              (None, 16)                304       \n",
      "_________________________________________________________________\n",
      "dense_9 (Dense)              (None, 14)                238       \n",
      "_________________________________________________________________\n",
      "dense_10 (Dense)             (None, 12)                180       \n",
      "_________________________________________________________________\n",
      "dense_11 (Dense)             (None, 10)                130       \n",
      "_________________________________________________________________\n",
      "dense_12 (Dense)             (None, 8)                 88        \n",
      "_________________________________________________________________\n",
      "dense_13 (Dense)             (None, 6)                 54        \n",
      "_________________________________________________________________\n",
      "dense_14 (Dense)             (None, 4)                 28        \n",
      "_________________________________________________________________\n",
      "dense_15 (Dense)             (None, 2)                 10        \n",
      "_________________________________________________________________\n",
      "dense_16 (Dense)             (None, 1)                 3         \n",
      "=================================================================\n",
      "Total params: 5,907\n",
      "Trainable params: 5,907\n",
      "Non-trainable params: 0\n",
      "_________________________________________________________________\n"
     ]
    }
   ],
   "source": [
    "model = Sequential()\n",
    "model.add(Dense(32, input_dim = train_features.shape[1], activation = \"relu\"))\n",
    "model.add(Dense(30, activation = \"relu\"))\n",
    "model.add(Dense(28, activation = \"relu\"))\n",
    "model.add(Dense(26, activation = \"relu\"))\n",
    "model.add(Dense(24, activation = \"relu\"))\n",
    "model.add(Dense(22, activation = \"relu\"))\n",
    "model.add(Dense(20, activation = \"relu\"))\n",
    "model.add(Dense(18, activation = \"relu\"))\n",
    "model.add(Dense(16, activation = \"relu\"))\n",
    "model.add(Dense(14, activation = \"relu\"))\n",
    "model.add(Dense(12, activation = \"relu\"))\n",
    "model.add(Dense(10, activation = \"relu\"))\n",
    "model.add(Dense(8, activation = \"relu\"))\n",
    "model.add(Dense(6, activation = \"relu\"))\n",
    "model.add(Dense(4, activation = \"relu\"))\n",
    "model.add(Dense(2, activation = \"relu\"))\n",
    "model.add(Dense(1, activation = \"sigmoid\"))\n",
    "\n",
    "model.compile(loss = \"binary_crossentropy\", optimizer = \"adam\", metrics = [\"accuracy\"])\n",
    "\n",
    "model.summary()"
   ]
  },
  {
   "cell_type": "code",
   "execution_count": 4,
   "id": "b9a22a51",
   "metadata": {
    "scrolled": false
   },
   "outputs": [
    {
     "name": "stdout",
     "output_type": "stream",
     "text": [
      "Epoch 1/5\n",
      "4246/4246 [==============================] - 30s 7ms/step - loss: 0.0835 - accuracy: 0.9842\n",
      "Epoch 2/5\n",
      "4246/4246 [==============================] - 29s 7ms/step - loss: 0.0452 - accuracy: 0.9914 0s - loss: 0.0452 - ac\n",
      "Epoch 3/5\n",
      "4246/4246 [==============================] - 29s 7ms/step - loss: 0.0412 - accuracy: 0.9917\n",
      "Epoch 4/5\n",
      "4246/4246 [==============================] - 29s 7ms/step - loss: 0.0420 - accuracy: 0.9912\n",
      "Epoch 5/5\n",
      "4246/4246 [==============================] - 29s 7ms/step - loss: 0.0406 - accuracy: 0.9916\n"
     ]
    }
   ],
   "source": [
    "history = model.fit(train_features, train_labels, batch_size = 64, epochs = 5)"
   ]
  },
  {
   "cell_type": "code",
   "execution_count": 5,
   "id": "9bb3a2f3",
   "metadata": {},
   "outputs": [],
   "source": [
    "model.save('tl_example_2.h5')"
   ]
  }
 ],
 "metadata": {
  "kernelspec": {
   "display_name": "Python 3",
   "language": "python",
   "name": "python3"
  },
  "language_info": {
   "codemirror_mode": {
    "name": "ipython",
    "version": 3
   },
   "file_extension": ".py",
   "mimetype": "text/x-python",
   "name": "python",
   "nbconvert_exporter": "python",
   "pygments_lexer": "ipython3",
   "version": "3.8.5"
  }
 },
 "nbformat": 4,
 "nbformat_minor": 5
}
